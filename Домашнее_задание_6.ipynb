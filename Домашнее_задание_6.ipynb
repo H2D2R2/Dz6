{
  "nbformat": 4,
  "nbformat_minor": 0,
  "metadata": {
    "colab": {
      "name": "Домашнее задание 6",
      "provenance": [],
      "collapsed_sections": [],
      "authorship_tag": "ABX9TyMNVvDSjGhlpbxyzA5vcrCl",
      "include_colab_link": true
    },
    "kernelspec": {
      "name": "python3",
      "display_name": "Python 3"
    }
  },
  "cells": [
    {
      "cell_type": "markdown",
      "metadata": {
        "id": "view-in-github",
        "colab_type": "text"
      },
      "source": [
        "<a href=\"https://colab.research.google.com/github/H2D2R2/Dz6/blob/main/%D0%94%D0%BE%D0%BC%D0%B0%D1%88%D0%BD%D0%B5%D0%B5_%D0%B7%D0%B0%D0%B4%D0%B0%D0%BD%D0%B8%D0%B5_6.ipynb\" target=\"_parent\"><img src=\"https://colab.research.google.com/assets/colab-badge.svg\" alt=\"Open In Colab\"/></a>"
      ]
    },
    {
      "cell_type": "markdown",
      "metadata": {
        "id": "vGEGgVduxRCD"
      },
      "source": [
        "# Задание 1\n",
        "\n",
        "Даны значения величины заработной платы заемщиков банка (zp) и значения их поведенческого кредитного скоринга (ks):\n",
        "zp = [35, 45, 190, 200, 40, 70, 54, 150, 120, 110],\n",
        "ks = [401, 574, 874, 919, 459, 739, 653, 902, 746, 832].\n",
        "Найдите ковариацию этих двух величин с помощью элементарных действий, а затем с помощью функции cov из numpy\n",
        "Полученные значения должны быть равны.\n",
        "Найдите коэффициент корреляции Пирсона с помощью ковариации и среднеквадратичных отклонений двух признаков,\n",
        "а затем с использованием функций из библиотек numpy и pandas."
      ]
    },
    {
      "cell_type": "code",
      "metadata": {
        "id": "1oZ-qwU4zBDn"
      },
      "source": [
        "import numpy as np\n"
      ],
      "execution_count": null,
      "outputs": []
    },
    {
      "cell_type": "code",
      "metadata": {
        "colab": {
          "base_uri": "https://localhost:8080/"
        },
        "id": "8_sQcARnxMCV",
        "outputId": "48461413-b706-432d-881a-8a47aeab9527"
      },
      "source": [
        "zp = np.array([35, 45, 190, 200, 40, 70, 54, 150, 120, 110])\n",
        "ks = np.array([401, 574, 874, 919, 459, 739, 653, 902, 746, 832])\n",
        "\n",
        "sum(zp*ks) / len(zp)  -  (sum(zp)/len(zp)) * (sum(ks)/len(ks))                  #нахождение ковариации стандартным методом"
      ],
      "execution_count": null,
      "outputs": [
        {
          "output_type": "execute_result",
          "data": {
            "text/plain": [
              "9157.839999999997"
            ]
          },
          "metadata": {
            "tags": []
          },
          "execution_count": 6
        }
      ]
    },
    {
      "cell_type": "code",
      "metadata": {
        "colab": {
          "base_uri": "https://localhost:8080/"
        },
        "id": "jsYrkJWA4a-C",
        "outputId": "7c04ad49-ff76-4195-e1c6-228d80ac3b0d"
      },
      "source": [
        "np.cov(zp,ks, ddof=0)                                                           #нахождение ковариации с помощью функции cov"
      ],
      "execution_count": null,
      "outputs": [
        {
          "output_type": "execute_result",
          "data": {
            "text/plain": [
              "array([[ 3494.64,  9157.84],\n",
              "       [ 9157.84, 30468.89]])"
            ]
          },
          "metadata": {
            "tags": []
          },
          "execution_count": 7
        }
      ]
    },
    {
      "cell_type": "code",
      "metadata": {
        "colab": {
          "base_uri": "https://localhost:8080/"
        },
        "id": "DvKC8oV9gTko",
        "outputId": "1bc4f45a-2c39-4cec-965c-85a5de0df367"
      },
      "source": [
        "sum(zp)/len(zp)"
      ],
      "execution_count": null,
      "outputs": [
        {
          "output_type": "execute_result",
          "data": {
            "text/plain": [
              "101.4"
            ]
          },
          "metadata": {
            "tags": []
          },
          "execution_count": 8
        }
      ]
    },
    {
      "cell_type": "code",
      "metadata": {
        "colab": {
          "base_uri": "https://localhost:8080/"
        },
        "id": "CbH1Vk5EgXT2",
        "outputId": "6ae1cc28-3bfb-4c8d-b9c4-4a8dbe17f39a"
      },
      "source": [
        "sum(ks)/len(ks)"
      ],
      "execution_count": null,
      "outputs": [
        {
          "output_type": "execute_result",
          "data": {
            "text/plain": [
              "709.9"
            ]
          },
          "metadata": {
            "tags": []
          },
          "execution_count": 9
        }
      ]
    },
    {
      "cell_type": "code",
      "metadata": {
        "colab": {
          "base_uri": "https://localhost:8080/"
        },
        "id": "UwHUgC78fQDJ",
        "outputId": "6a553c95-b556-4932-fc1c-665b911e8b78"
      },
      "source": [
        "9157.84 / (101.4*709.9)                                                         #нахождение коэффициента Пирсона с помощью библиотеки numpy"
      ],
      "execution_count": null,
      "outputs": [
        {
          "output_type": "execute_result",
          "data": {
            "text/plain": [
              "0.1272207408716343"
            ]
          },
          "metadata": {
            "tags": []
          },
          "execution_count": 10
        }
      ]
    },
    {
      "cell_type": "code",
      "metadata": {
        "colab": {
          "base_uri": "https://localhost:8080/"
        },
        "id": "XnqX6EyXgd-x",
        "outputId": "c56301e9-c3d9-44a7-ecdf-6e48e1088655"
      },
      "source": [
        "(sum(zp*ks) / len(zp)  -  (sum(zp)/len(zp)) * (sum(ks)/len(ks))) / ((sum(zp)/len(zp)) * (sum(ks)/len(ks)))     #нахождение коэффициента Пирсона простым способом "
      ],
      "execution_count": null,
      "outputs": [
        {
          "output_type": "execute_result",
          "data": {
            "text/plain": [
              "0.12722074087163424"
            ]
          },
          "metadata": {
            "tags": []
          },
          "execution_count": 12
        }
      ]
    },
    {
      "cell_type": "markdown",
      "metadata": {
        "id": "pVLpRJPIEnXf"
      },
      "source": [
        "Ответ: Ковариация: 9157.84. Коэффициент корреляции Пирсона: 0.1272."
      ]
    },
    {
      "cell_type": "markdown",
      "metadata": {
        "id": "1HQ6U7uJEnow"
      },
      "source": [
        "# Задание 2\n",
        "\n",
        "Измерены значения IQ выборки студентов,\n",
        "обучающихся в местных технических вузах:\n",
        "131, 125, 115, 122, 131, 115, 107, 99, 125, 111.\n",
        "Известно, что в генеральной совокупности IQ распределен нормально.\n",
        "Найдите доверительный интервал для математического ожидания с надежностью 0.95."
      ]
    },
    {
      "cell_type": "code",
      "metadata": {
        "colab": {
          "base_uri": "https://localhost:8080/"
        },
        "id": "8TTV6PRjiR1m",
        "outputId": "57d554d3-c5eb-40fa-dc81-46392a271c92"
      },
      "source": [
        "a = np.array([131, 125, 115, 122, 131, 115, 107, 99, 125, 111])\n",
        "t = 2.262\n",
        "n = 10\n",
        "sigma = np.std(a, ddof=1)\n",
        "x = np.mean(a)\n",
        "\n",
        "A0 = x - t*(sigma/np.sqrt(n))\n",
        "A0"
      ],
      "execution_count": null,
      "outputs": [
        {
          "output_type": "execute_result",
          "data": {
            "text/plain": [
              "110.55660776308164"
            ]
          },
          "metadata": {
            "tags": []
          },
          "execution_count": 15
        }
      ]
    },
    {
      "cell_type": "code",
      "metadata": {
        "colab": {
          "base_uri": "https://localhost:8080/"
        },
        "id": "ayaVYefmjXXr",
        "outputId": "ed3dddb8-a214-4002-f780-cc8d45150285"
      },
      "source": [
        "A1 = x + t*(sigma/np.sqrt(n))\n",
        "A1"
      ],
      "execution_count": null,
      "outputs": [
        {
          "output_type": "execute_result",
          "data": {
            "text/plain": [
              "125.64339223691834"
            ]
          },
          "metadata": {
            "tags": []
          },
          "execution_count": 16
        }
      ]
    },
    {
      "cell_type": "markdown",
      "metadata": {
        "id": "OHOHBma5jvFH"
      },
      "source": [
        "Ответ: {110.5;125.6}"
      ]
    },
    {
      "cell_type": "markdown",
      "metadata": {
        "id": "1HSgT6tVknEj"
      },
      "source": [
        "# Задание 3\n",
        "\n",
        "Известно, что рост футболистов в сборной распределен нормально\n",
        "с дисперсией генеральной совокупности, равной 25 кв.см. Объем выборки равен 27,\n",
        "среднее выборочное составляет 174.2. Найдите доверительный интервал для математического\n",
        "ожидания с надежностью 0.95."
      ]
    },
    {
      "cell_type": "code",
      "metadata": {
        "colab": {
          "base_uri": "https://localhost:8080/"
        },
        "id": "TFGGnD6Fkmmb",
        "outputId": "b676ecf0-ac48-46f5-c909-506eaa9b2d6a"
      },
      "source": [
        "M = 174.2\n",
        "z = 1.96\n",
        "D = 25\n",
        "sigma = np.sqrt(D)                                                                   \n",
        "n = 27\n",
        "\n",
        "A0 = M - (z * sigma/np.sqrt(n))                                                \n",
        "A0"
      ],
      "execution_count": null,
      "outputs": [
        {
          "output_type": "execute_result",
          "data": {
            "text/plain": [
              "172.31398912064722"
            ]
          },
          "metadata": {
            "tags": []
          },
          "execution_count": 17
        }
      ]
    },
    {
      "cell_type": "code",
      "metadata": {
        "colab": {
          "base_uri": "https://localhost:8080/"
        },
        "id": "vznKzByEkuPw",
        "outputId": "b5e57477-f59d-44c9-ba07-676fbb4cc058"
      },
      "source": [
        "A1 = M + (z * sigma/np.sqrt(n)) \n",
        "A1"
      ],
      "execution_count": null,
      "outputs": [
        {
          "output_type": "execute_result",
          "data": {
            "text/plain": [
              "176.08601087935276"
            ]
          },
          "metadata": {
            "tags": []
          },
          "execution_count": 18
        }
      ]
    },
    {
      "cell_type": "markdown",
      "metadata": {
        "id": "NzxY9a0SlZ7C"
      },
      "source": [
        "Ответ: {172;176}"
      ]
    },
    {
      "cell_type": "markdown",
      "metadata": {
        "id": "GgiW7clmDaVt"
      },
      "source": [
        "# Задание 4 \n",
        "\n",
        "Тему для курсовой выберу чуть позже и согласую с Вами в личных сообщениях. "
      ]
    }
  ]
}